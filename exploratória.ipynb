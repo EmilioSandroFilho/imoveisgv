{
 "cells": [
  {
   "cell_type": "code",
   "execution_count": null,
   "id": "797716bf-4fb6-445d-9e66-b880dab0e929",
   "metadata": {},
   "outputs": [],
   "source": []
  },
  {
   "cell_type": "code",
   "execution_count": 30,
   "id": "cd47a276-41a8-42d9-9ac8-44b99dae8480",
   "metadata": {
    "scrolled": true
   },
   "outputs": [],
   "source": [
    "import pandas as pd\n",
    "import numpy as  np\n",
    "\n",
    "pd.set_option('display.float_format', lambda x: '%.2f' % x)"
   ]
  },
  {
   "cell_type": "code",
   "execution_count": 2,
   "id": "e0bd6aef-08fc-4f1c-a82a-d79140f8c2ed",
   "metadata": {},
   "outputs": [],
   "source": [
    "imoveis = pd.read_excel('BCIS 2023.xlsx')"
   ]
  },
  {
   "cell_type": "code",
   "execution_count": 3,
   "id": "f5bee834-bea6-47df-9fee-f3957d002f79",
   "metadata": {},
   "outputs": [
    {
     "name": "stdout",
     "output_type": "stream",
     "text": [
      "<class 'pandas.core.frame.DataFrame'>\n",
      "RangeIndex: 148263 entries, 0 to 148262\n",
      "Data columns (total 29 columns):\n",
      " #   Column               Non-Null Count   Dtype  \n",
      "---  ------               --------------   -----  \n",
      " 0   insc_munic           148263 non-null  int64  \n",
      " 1   nome_bairr           148263 non-null  object \n",
      " 2   formato              148256 non-null  object \n",
      " 3   topografia           148261 non-null  object \n",
      " 4   tipo_ocupacao        148197 non-null  object \n",
      " 5   especie_unidade      134236 non-null  object \n",
      " 6   regime_utilizacao    134241 non-null  object \n",
      " 7   conservacao_interna  134236 non-null  object \n",
      " 8   idade                134235 non-null  object \n",
      " 9   conservacao_externa  134230 non-null  object \n",
      " 10  limpeza_urbana       148229 non-null  object \n",
      " 11  tipo_pavimentacao    148259 non-null  object \n",
      " 12  coleta_lixo          148237 non-null  object \n",
      " 13  energia_eletrica     148243 non-null  object \n",
      " 14  area_lote            148263 non-null  float64\n",
      " 15  testada              148263 non-null  float64\n",
      " 16  lateral_direita      147083 non-null  float64\n",
      " 17  lateral_esquerda     147077 non-null  float64\n",
      " 18  fundos               147083 non-null  float64\n",
      " 19  area_total_const     145340 non-null  float64\n",
      " 20  numero_unidade       145313 non-null  float64\n",
      " 21  numero_pavimento     144677 non-null  float64\n",
      " 22  area_principal       134308 non-null  float64\n",
      " 23  num_moradores        125983 non-null  object \n",
      " 24  num_comodos          131964 non-null  float64\n",
      " 25  num_quartos          131723 non-null  float64\n",
      " 26  area_edicula         145358 non-null  float64\n",
      " 27  area_total_subunid   146253 non-null  float64\n",
      " 28  venal                148263 non-null  float64\n",
      "dtypes: float64(14), int64(1), object(14)\n",
      "memory usage: 32.8+ MB\n"
     ]
    }
   ],
   "source": [
    "imoveis.info()"
   ]
  },
  {
   "cell_type": "code",
   "execution_count": 4,
   "id": "f359c028-06b6-4282-ae07-672b5ec66a06",
   "metadata": {},
   "outputs": [
    {
     "data": {
      "text/plain": [
       "'imoveis Dataset contémm 148263 linhas e 29 colunas'"
      ]
     },
     "execution_count": 4,
     "metadata": {},
     "output_type": "execute_result"
    }
   ],
   "source": [
    "f'imoveis Dataset contémm {imoveis.shape[0]} linhas e {imoveis.shape[1]} colunas'"
   ]
  },
  {
   "cell_type": "code",
   "execution_count": 7,
   "id": "f6593d67-4ec1-44e8-b548-4b89990b4d42",
   "metadata": {},
   "outputs": [
    {
     "data": {
      "text/plain": [
       "'138859 imoveis unicos no dataset'"
      ]
     },
     "execution_count": 7,
     "metadata": {},
     "output_type": "execute_result"
    }
   ],
   "source": [
    "UNIQUE_IMOVEIS = imoveis['insc_munic'].nunique()\n",
    "f'{UNIQUE_IMOVEIS} imoveis unicos no dataset'"
   ]
  },
  {
   "cell_type": "code",
   "execution_count": 13,
   "id": "9228c944-36f8-4fac-aca8-a67c7c34e1b0",
   "metadata": {},
   "outputs": [],
   "source": [
    "imoveis = imoveis.drop_duplicates(subset=['insc_munic', 'nome_bairr','area_lote'])"
   ]
  },
  {
   "cell_type": "code",
   "execution_count": 15,
   "id": "fbfc3eb0-bfed-4b09-b0f6-c53b8791b45d",
   "metadata": {},
   "outputs": [
    {
     "name": "stdout",
     "output_type": "stream",
     "text": [
      "<class 'pandas.core.frame.DataFrame'>\n",
      "Index: 138859 entries, 0 to 148262\n",
      "Data columns (total 29 columns):\n",
      " #   Column               Non-Null Count   Dtype  \n",
      "---  ------               --------------   -----  \n",
      " 0   insc_munic           138859 non-null  int64  \n",
      " 1   nome_bairr           138859 non-null  object \n",
      " 2   formato              138852 non-null  object \n",
      " 3   topografia           138857 non-null  object \n",
      " 4   tipo_ocupacao        138857 non-null  object \n",
      " 5   especie_unidade      124938 non-null  object \n",
      " 6   regime_utilizacao    124943 non-null  object \n",
      " 7   conservacao_interna  124938 non-null  object \n",
      " 8   idade                124937 non-null  object \n",
      " 9   conservacao_externa  124932 non-null  object \n",
      " 10  limpeza_urbana       138825 non-null  object \n",
      " 11  tipo_pavimentacao    138855 non-null  object \n",
      " 12  coleta_lixo          138833 non-null  object \n",
      " 13  energia_eletrica     138839 non-null  object \n",
      " 14  area_lote            138859 non-null  float64\n",
      " 15  testada              138859 non-null  float64\n",
      " 16  lateral_direita      137679 non-null  float64\n",
      " 17  lateral_esquerda     137673 non-null  float64\n",
      " 18  fundos               137679 non-null  float64\n",
      " 19  area_total_const     135936 non-null  float64\n",
      " 20  numero_unidade       135909 non-null  float64\n",
      " 21  numero_pavimento     135273 non-null  float64\n",
      " 22  area_principal       125010 non-null  float64\n",
      " 23  num_moradores        119468 non-null  object \n",
      " 24  num_comodos          122761 non-null  float64\n",
      " 25  num_quartos          122520 non-null  float64\n",
      " 26  area_edicula         135955 non-null  float64\n",
      " 27  area_total_subunid   136849 non-null  float64\n",
      " 28  venal                138859 non-null  float64\n",
      "dtypes: float64(14), int64(1), object(14)\n",
      "memory usage: 31.8+ MB\n"
     ]
    }
   ],
   "source": [
    "imoveis.info()"
   ]
  },
  {
   "cell_type": "code",
   "execution_count": 16,
   "id": "6281454b-d159-4d34-818a-ccc684e94edd",
   "metadata": {},
   "outputs": [
    {
     "data": {
      "text/plain": [
       "'188 bairros unicos no dataset'"
      ]
     },
     "execution_count": 16,
     "metadata": {},
     "output_type": "execute_result"
    }
   ],
   "source": [
    "UNIQUE_BAIRROS = imoveis['nome_bairr'].nunique()\n",
    "f'{UNIQUE_BAIRROS} bairros unicos no dataset'"
   ]
  },
  {
   "cell_type": "code",
   "execution_count": 19,
   "id": "99569442-24f5-48b2-85ab-dc6e734df004",
   "metadata": {},
   "outputs": [
    {
     "data": {
      "text/plain": [
       "\"[nan 'Residencial' 'Comercial' 'Institucional' 'Em Construcao' 'Servicos'\\n 'Em Construcao apenas Laje / Cobertura' 'Industrial'] são as classificações de utilização\""
      ]
     },
     "execution_count": 19,
     "metadata": {},
     "output_type": "execute_result"
    }
   ],
   "source": [
    "UNIQUE_UTILIZAÇÃO = imoveis['regime_utilizacao'].unique()\n",
    "f'{UNIQUE_UTILIZAÇÃO} são as classificações de utilização'"
   ]
  },
  {
   "cell_type": "code",
   "execution_count": 21,
   "id": "57b41c4e-fc71-49f0-ba6a-a6e40eb8e0b0",
   "metadata": {},
   "outputs": [],
   "source": [
    "chaves = ['Comercial', 'Servicos', 'Industrial']\n",
    "selecao = imoveis.loc[imoveis['regime_utilizacao'].isin(chaves)]"
   ]
  },
  {
   "cell_type": "code",
   "execution_count": 23,
   "id": "739bf9a4-7341-40b7-9237-3796c197a753",
   "metadata": {},
   "outputs": [
    {
     "data": {
      "text/plain": [
       "'15489 imoveis unicos no dataset'"
      ]
     },
     "execution_count": 23,
     "metadata": {},
     "output_type": "execute_result"
    }
   ],
   "source": [
    "UNIQUE_IMOVEIS_SELEÇÃO = selecao['insc_munic'].nunique()\n",
    "f'{UNIQUE_IMOVEIS_SELEÇÃO} imoveis unicos no dataset'"
   ]
  },
  {
   "cell_type": "code",
   "execution_count": 24,
   "id": "283a4f10-2abd-4b58-82cd-e2d100609bcc",
   "metadata": {},
   "outputs": [
    {
     "data": {
      "text/plain": [
       "'146 bairros unicos no dataset'"
      ]
     },
     "execution_count": 24,
     "metadata": {},
     "output_type": "execute_result"
    }
   ],
   "source": [
    "UNIQUE_BAIRROS_SELEÇÃO = selecao['nome_bairr'].nunique()\n",
    "f'{UNIQUE_BAIRROS_SELEÇÃO} bairros unicos no dataset'"
   ]
  },
  {
   "cell_type": "code",
   "execution_count": 27,
   "id": "a0e3c60f-c1b6-4488-be66-43585795e66b",
   "metadata": {},
   "outputs": [
    {
     "data": {
      "text/plain": [
       "count     15489.000000\n",
       "mean       1408.385743\n",
       "std       10696.447514\n",
       "min           6.220000\n",
       "25%         255.000000\n",
       "50%         400.000000\n",
       "75%         700.000000\n",
       "max      487620.940000\n",
       "Name: area_lote, dtype: float64"
      ]
     },
     "execution_count": 27,
     "metadata": {},
     "output_type": "execute_result"
    }
   ],
   "source": [
    "selecao['area_lote'].describe()"
   ]
  },
  {
   "cell_type": "code",
   "execution_count": 28,
   "id": "03e8e254-27c5-4619-b1d4-bce4b2bc1e82",
   "metadata": {},
   "outputs": [
    {
     "data": {
      "text/plain": [
       "count    15487.000000\n",
       "mean       162.511803\n",
       "std        612.594969\n",
       "min          4.510000\n",
       "25%         32.680000\n",
       "50%         54.960000\n",
       "75%        115.610000\n",
       "max      23211.780000\n",
       "Name: area_principal, dtype: float64"
      ]
     },
     "execution_count": 28,
     "metadata": {},
     "output_type": "execute_result"
    }
   ],
   "source": [
    "selecao['area_principal'].describe()"
   ]
  },
  {
   "cell_type": "code",
   "execution_count": 31,
   "id": "775b46f8-5f59-47de-b662-5decf5fc9385",
   "metadata": {},
   "outputs": [
    {
     "data": {
      "text/plain": [
       "count       15489.00\n",
       "mean       259477.64\n",
       "std       1372923.50\n",
       "min          2079.53\n",
       "25%         39268.47\n",
       "50%         77687.35\n",
       "75%        186752.37\n",
       "max     121268851.29\n",
       "Name: venal, dtype: float64"
      ]
     },
     "execution_count": 31,
     "metadata": {},
     "output_type": "execute_result"
    }
   ],
   "source": [
    "selecao['venal'].describe()"
   ]
  }
 ],
 "metadata": {
  "kernelspec": {
   "display_name": "Python 3 (ipykernel)",
   "language": "python",
   "name": "python3"
  },
  "language_info": {
   "codemirror_mode": {
    "name": "ipython",
    "version": 3
   },
   "file_extension": ".py",
   "mimetype": "text/x-python",
   "name": "python",
   "nbconvert_exporter": "python",
   "pygments_lexer": "ipython3",
   "version": "3.11.7"
  }
 },
 "nbformat": 4,
 "nbformat_minor": 5
}
